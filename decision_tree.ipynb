{
 "cells": [
  {
   "cell_type": "code",
   "execution_count": 2,
   "metadata": {},
   "outputs": [],
   "source": [
    "from decision_tree import *\n",
    "\n",
    "data = [['Shortbread',0.15,0.2],\n",
    "        ['Shortbread',0.15,0.3],\n",
    "        ['Shortbread',0.2,0.25],\n",
    "        ['Shortbread',0.25,0.4],\n",
    "        ['Shortbread',0.3,0.35],\n",
    "        ['Sugar',0.05,0.25],\n",
    "        ['Sugar',0.05,0.35],\n",
    "        ['Sugar',0.1,0.3],\n",
    "        ['Sugar',0.15,0.4],\n",
    "        ['Sugar',0.25,0.35]]\n",
    "\n",
    "leave_one_out = {}"
   ]
  },
  {
   "cell_type": "code",
   "execution_count": 3,
   "metadata": {},
   "outputs": [
    {
     "ename": "KeyboardInterrupt",
     "evalue": "",
     "output_type": "error",
     "traceback": [
      "\u001b[0;31m---------------------------------------------------------------------------\u001b[0m",
      "\u001b[0;31mKeyboardInterrupt\u001b[0m                         Traceback (most recent call last)",
      "Cell \u001b[0;32mIn[3], line 9\u001b[0m\n\u001b[1;32m      5\u001b[0m current_data_point_class \u001b[39m=\u001b[39m current_data_point[\u001b[39m0\u001b[39m]\n\u001b[1;32m      7\u001b[0m data\u001b[39m.\u001b[39mpop(i)\n\u001b[0;32m----> 9\u001b[0m test_tree \u001b[39m=\u001b[39m DecisionTree(data, max_depth_constraint)\n\u001b[1;32m     10\u001b[0m \u001b[39mif\u001b[39;00m test_tree\u001b[39m.\u001b[39mpredict(current_data_point) \u001b[39m==\u001b[39m current_data_point_class:\n\u001b[1;32m     11\u001b[0m     leave_one_out[max_depth_constraint] \u001b[39m+\u001b[39m\u001b[39m=\u001b[39m \u001b[39m1\u001b[39m\n",
      "File \u001b[0;32m/workspaces/machine-learning-hw-11/decision_tree.py:150\u001b[0m, in \u001b[0;36mDecisionTree.__init__\u001b[0;34m(self, data_points, max_depth)\u001b[0m\n\u001b[1;32m    148\u001b[0m \u001b[39mself\u001b[39m\u001b[39m.\u001b[39mdata_points \u001b[39m=\u001b[39m data_points\n\u001b[1;32m    149\u001b[0m \u001b[39mself\u001b[39m\u001b[39m.\u001b[39mroot \u001b[39m=\u001b[39m Node(data_points)\n\u001b[0;32m--> 150\u001b[0m \u001b[39mself\u001b[39m\u001b[39m.\u001b[39mnodes \u001b[39m=\u001b[39m \u001b[39mself\u001b[39;49m\u001b[39m.\u001b[39;49mbuild_tree()\n",
      "File \u001b[0;32m/workspaces/machine-learning-hw-11/decision_tree.py:157\u001b[0m, in \u001b[0;36mDecisionTree.build_tree\u001b[0;34m(self)\u001b[0m\n\u001b[1;32m    154\u001b[0m stack\u001b[39m.\u001b[39mpush(\u001b[39mself\u001b[39m\u001b[39m.\u001b[39mroot)\n\u001b[1;32m    155\u001b[0m nodes \u001b[39m=\u001b[39m {\u001b[39mself\u001b[39m\u001b[39m.\u001b[39mroot: []}\n\u001b[0;32m--> 157\u001b[0m \u001b[39mwhile\u001b[39;00m \u001b[39mlen\u001b[39;49m(stack\u001b[39m.\u001b[39;49melements) \u001b[39m!=\u001b[39m \u001b[39m0\u001b[39m:\n\u001b[1;32m    159\u001b[0m     current_node \u001b[39m=\u001b[39m stack\u001b[39m.\u001b[39melements[\u001b[39m-\u001b[39m\u001b[39m1\u001b[39m]\n\u001b[1;32m    161\u001b[0m     \u001b[39m#if node is pure or max depth is reached don't split\u001b[39;00m\n",
      "\u001b[0;31mKeyboardInterrupt\u001b[0m: "
     ]
    }
   ],
   "source": [
    "for max_depth_constraint in range(len(data)): \n",
    "    leave_one_out[max_depth_constraint] = 0 \n",
    "    for i in range(len(data)): \n",
    "        current_data_point = data[i]\n",
    "        current_data_point_class = current_data_point[0]\n",
    "\n",
    "        data.pop(i)\n",
    "\n",
    "        test_tree = DecisionTree(data, max_depth_constraint)\n",
    "        if test_tree.predict(current_data_point) == current_data_point_class:\n",
    "            leave_one_out[max_depth_constraint] += 1\n",
    "        \n",
    "        data.insert(i, current_data_point)\n",
    "\n",
    "leave_one_out_accuracy = [leave_one_out[i]/len(data) for i in range(len(data))]\n",
    "print(leave_one_out_accuracy)\n"
   ]
  }
 ],
 "metadata": {
  "kernelspec": {
   "display_name": "Python 3",
   "language": "python",
   "name": "python3"
  },
  "language_info": {
   "codemirror_mode": {
    "name": "ipython",
    "version": 3
   },
   "file_extension": ".py",
   "mimetype": "text/x-python",
   "name": "python",
   "nbconvert_exporter": "python",
   "pygments_lexer": "ipython3",
   "version": "3.10.4"
  },
  "orig_nbformat": 4,
  "vscode": {
   "interpreter": {
    "hash": "3ad933181bd8a04b432d3370b9dc3b0662ad032c4dfaa4e4f1596c548f763858"
   }
  }
 },
 "nbformat": 4,
 "nbformat_minor": 2
}
