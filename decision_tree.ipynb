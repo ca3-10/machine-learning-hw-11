{
 "cells": [
  {
   "cell_type": "code",
   "execution_count": null,
   "metadata": {},
   "outputs": [],
   "source": [
    "from decision_tree import *\n",
    "\n",
    "data = [['Shortbread',0.15,0.2],\n",
    "        ['Shortbread',0.15,0.3],\n",
    "        ['Shortbread',0.2,0.25],\n",
    "        ['Shortbread',0.25,0.4],\n",
    "        ['Shortbread',0.3,0.35],\n",
    "        ['Sugar',0.05,0.25],\n",
    "        ['Sugar',0.05,0.35],\n",
    "        ['Sugar',0.1,0.3],\n",
    "        ['Sugar',0.15,0.4],\n",
    "        ['Sugar',0.25,0.35]]\n",
    "\n"
   ]
  }
 ],
 "metadata": {
  "language_info": {
   "name": "python"
  },
  "orig_nbformat": 4
 },
 "nbformat": 4,
 "nbformat_minor": 2
}
